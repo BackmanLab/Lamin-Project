{
 "cells": [
  {
   "cell_type": "code",
   "execution_count": 1,
   "source": [
    "# importing all necessary functions \n",
    "# importing functions \n",
    "import os \n",
    "import scipy.io as sio \n",
    "import numpy as np\n",
    "import matplotlib\n",
    "import matplotlib.pyplot as plt \n",
    "from tkinter import Tk\n",
    "from tkinter.filedialog import askdirectory \n",
    "import pandas as pd\n",
    "#import h5py\n",
    "import math\n",
    "matplotlib.rcParams[\"figure.dpi\"] = 50\n",
    "\n",
    "### import functions ###\n",
    "#importing packages\n",
    "import tifffile as tif\n",
    "import cv2 as cv \n",
    "import seaborn as sns\n",
    "\n",
    "from scipy.spatial import distance\n",
    "from sklearn.neighbors import KernelDensity\n",
    "from sklearn.model_selection import GridSearchCV\n",
    "from scipy.signal import savgol_filter as sf\n",
    "from scipy.signal import find_peaks\n",
    "from scipy import stats\n",
    "import skimage.exposure\n"
   ],
   "outputs": [],
   "metadata": {}
  },
  {
   "cell_type": "code",
   "execution_count": 2,
   "source": [
    "#useful functions \n",
    "def readImages(imgPath):\n",
    "    ''' \n",
    "    read image file and return array, dtype and the  shape \n",
    "    '''\n",
    "    img = cv.imread(imgPath,0) # read image as grayscale\n",
    "    try: \n",
    "        imgShape = img.shape\n",
    "    except AttributeError:\n",
    "        print(\"Initial attempt with opencv failed, will try again with tifffile package...\")\n",
    "\n",
    "    if img is None:\n",
    "        img2 = tif.imread(imgPath)\n",
    "        img = img2 \n",
    "        imgShape = img2.shape\n",
    "        \n",
    "    ## create return obj \n",
    "    outList= [img,type(img),imgShape]\n",
    "    return outList\n",
    "\n",
    "\n",
    "def findCentroid(arr):\n",
    "    'find centroid of array using weighted average'\n",
    "    N = arr.shape[0]\n",
    "    sum_x = np.sum(arr[:,1])\n",
    "    sum_y = np.sum(arr[:,0])\n",
    "    return int(sum_y/N),int(sum_x/N)"
   ],
   "outputs": [],
   "metadata": {}
  },
  {
   "cell_type": "code",
   "execution_count": 3,
   "source": [
    "# load in images path  here \n",
    "path = askdirectory(title='Select matFiles folder in PWS Directory') # shows dialog box and return the path"
   ],
   "outputs": [
    {
     "output_type": "stream",
     "name": "stderr",
     "text": [
      "objc[10699]: Class FIFinderSyncExtensionHost is implemented in both /System/Library/PrivateFrameworks/FinderKit.framework/Versions/A/FinderKit (0x7fff9ad2d3d8) and /System/Library/PrivateFrameworks/FileProvider.framework/OverrideBundles/FinderSyncCollaborationFileProviderOverride.bundle/Contents/MacOS/FinderSyncCollaborationFileProviderOverride (0x17ac8cf50). One of the two will be used. Which one is undefined.\n"
     ]
    }
   ],
   "metadata": {}
  },
  {
   "cell_type": "code",
   "execution_count": 4,
   "source": [
    "dataArray = [file for file in os.listdir(path)]\n",
    "print(dataArray)\n",
    "# change to directory then load image of interest \n",
    "os.chdir(path)"
   ],
   "outputs": [
    {
     "output_type": "stream",
     "name": "stdout",
     "text": [
      "['MAX_hct116_lb1b2_cell008.tif', '._MAX_hct116_lb1b2_cell008.tif', 'MAX_hct116_lb1b2_cell002.tif', '._MAX_hct116_lb1b2_cell002.tif', 'MAX_hct116_lb1b2_cell005.tif', '._MAX_hct116_lb1b2_cell005.tif', 'cell008_example_filtered_frame.tif', '._cell008_example_filtered_frame.tif', 'MAXRoI_hct116_lb1b2_cell002.tif', '._MAXRoI_hct116_lb1b2_cell002.tif', 'MAX_back_RoI_hct116_lb1b2_cell002.tif', '._MAX_back_RoI_hct116_lb1b2_cell002.tif', 'MAX_crop_hct116_lb1b2_cell006.tif', '._MAX_crop_hct116_lb1b2_cell006.tif', 'MAX_crop_hct116_lb1b2_cell007.tif', '._MAX_crop_hct116_lb1b2_cell007.tif', 'MAX_bacsub_crop_hct116_lb1b2_cell006.tif', '._MAX_bacsub_crop_hct116_lb1b2_cell006.tif', 'example_detection_cell7.tif', '._example_detection_cell7.tif', 'Results_cell2-7.csv', '._Results_cell2-7.csv', 'MAX_hct116_lb1b2_cell011-1.tif', '._MAX_hct116_lb1b2_cell011-1.tif', 'UNTREATED_bacsub_EXAMPLE_PIC.tif', '._UNTREATED_bacsub_EXAMPLE_PIC.tif', 'UNTREATED_EXAMPLE_PIC.tif', '._UNTREATED_EXAMPLE_PIC.tif', 'MAX_hct116_lb1b2_cell015.tif', '._MAX_hct116_lb1b2_cell015.tif', 'MAX_hct116_lb1b2_cell011.tif', '._MAX_hct116_lb1b2_cell011.tif', 'crop_hct116_lb1b2_cell007.tif', '._crop_hct116_lb1b2_cell007.tif', 'crop_hct116_lb1b2_cell006.tif', '._crop_hct116_lb1b2_cell006.tif']\n"
     ]
    }
   ],
   "metadata": {}
  },
  {
   "cell_type": "code",
   "execution_count": 6,
   "source": [
    "img = readImages(dataArray[-10])[0]\n",
    "# threshold image \n",
    "th,imgt = cv.threshold(img,0,255,cv.THRESH_BINARY+cv.THRESH_OTSU)\n",
    "# smooth out the edge without dilation \n",
    "blur = cv.GaussianBlur(imgt,(0,0),sigmaX = 2, borderType = cv.BORDER_DEFAULT )\n",
    "nucMask = skimage.exposure.rescale_intensity(blur, in_range=(120,255), out_range=(0,255))\n",
    "nucMask = nucMask.astype(np.uint8)\n",
    "# now get rid of blur but keep smoothness\n",
    "finMask = np.zeros((nucMask.shape))\n",
    "idxs = np.where(nucMask!=0)\n",
    "finMask[idxs] = 1"
   ],
   "outputs": [],
   "metadata": {}
  },
  {
   "cell_type": "code",
   "execution_count": 7,
   "source": [
    "fig = plt.figure(figsize=(20,20))\n",
    "fig.add_subplot(1,3,1),plt.imshow(imgt)\n",
    "fig.add_subplot(1,3,2),plt.imshow(nucMask)\n",
    "fig.add_subplot(1,3,3),plt.imshow(finMask)\n",
    "plt.show()"
   ],
   "outputs": [
    {
     "output_type": "display_data",
     "data": {
      "image/png": "[encoded data removed]",
      "text/plain": [
       "<Figure size 1000x1000 with 3 Axes>"
      ]
     },
     "metadata": {}
    }
   ],
   "metadata": {}
  },
  {
   "cell_type": "code",
   "execution_count": 8,
   "source": [
    "# set y,x point then find centroid and calculate distance \n",
    "foci = (140,116)\n",
    "centroid = findCentroid(np.argwhere(finMask!=0))\n",
    "print(centroid)"
   ],
   "outputs": [
    {
     "output_type": "stream",
     "name": "stdout",
     "text": [
      "(219, 206)\n"
     ]
    }
   ],
   "metadata": {}
  },
  {
   "cell_type": "code",
   "execution_count": 17,
   "source": [
    "# define booundary aand overlay with original image \n",
    "dilated =  cv.dilate(nucMask,None,np.ones((3,3),np.uint8),iterations=1)\n",
    "fin = dilated-nucMask"
   ],
   "outputs": [],
   "metadata": {}
  },
  {
   "cell_type": "code",
   "execution_count": 20,
   "source": [
    "plt.imshow(fin,cmap='gray')\n",
    "plt.axis('off')\n",
    "plt.savefig(os.path.join(path,'test.tif'),transparent=True,bbox_inches='tight')\n",
    "plt.show()"
   ],
   "outputs": [
    {
     "output_type": "display_data",
     "data": {
      "image/png": "[encoded data removed]",
      "text/plain": [
       "<Figure size 320x240 with 1 Axes>"
      ]
     },
     "metadata": {}
    }
   ],
   "metadata": {}
  }
 ],
 "metadata": {
  "orig_nbformat": 4,
  "language_info": {
   "name": "python",
   "version": "3.9.6",
   "mimetype": "text/x-python",
   "codemirror_mode": {
    "name": "ipython",
    "version": 3
   },
   "pygments_lexer": "ipython3",
   "nbconvert_exporter": "python",
   "file_extension": ".py"
  },
  "kernelspec": {
   "name": "python3",
   "display_name": "Python 3.9.6 64-bit ('venvNew': conda)"
  },
  "interpreter": {
   "hash": "22c4e860bc7c1d2e25a73f71af97a5f5d17d9caf6127b61517a241ef30f2cd5e"
  }
 },
 "nbformat": 4,
 "nbformat_minor": 2
}
